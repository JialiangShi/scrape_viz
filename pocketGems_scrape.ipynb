{
 "cells": [
  {
   "cell_type": "code",
   "execution_count": 1,
   "metadata": {},
   "outputs": [],
   "source": [
    "from bs4 import BeautifulSoup\n",
    "import requests\n",
    "import pandas as pd"
   ]
  },
  {
   "cell_type": "code",
   "execution_count": 2,
   "metadata": {},
   "outputs": [],
   "source": [
    "def get_soup(url):\n",
    "    \"\"\"\n",
    "    The webpage scrapper for list of all dogs. Design for rocketdogrescue.com\n",
    "    param:\n",
    "        url: the link to webpage holding dog's infor, can be the archive or to\n",
    "            _be adopted info.\n",
    "    return:\n",
    "        soup: the object that holds all information.\n",
    "    \"\"\"\n",
    "    try:\n",
    "        response = requests.get(url, headers={'User-Agent': \"PuppyLover\"})\n",
    "    except ValueError as e:\n",
    "        print(str(e))\n",
    "        return\n",
    "    html = response.text\n",
    "    soup = BeautifulSoup(html, \"html.parser\")\n",
    "    return soup"
   ]
  },
  {
   "cell_type": "code",
   "execution_count": 3,
   "metadata": {},
   "outputs": [],
   "source": [
    "url = 'https://pocketgems.com/about/'\n",
    "soup = get_soup(url)"
   ]
  },
  {
   "cell_type": "markdown",
   "metadata": {},
   "source": [
    "### HTML Page for Dixin"
   ]
  },
  {
   "cell_type": "markdown",
   "metadata": {},
   "source": [
    "<figure class=\"item\" template=\"\">\n",
    "<div class=\"image\" style=\"background-image: url(https://s3-us-west-2.amazonaws.com/pocketgems-assets/2018/09/21235721/Dixin_Yan.jpg);\"></div>\n",
    "<div class=\"user-popup\">\n",
    "<div class=\"arrow\"></div>\n",
    "<img alt=\"Close icon\" class=\"close-icon\" src=\"https://pocketgems.com/wp-content/themes/pocketgems/assets/images/x@2x.png\"/>\n",
    "<h4>Background</h4>\n",
    "<p><p><span data-sheets-userformat='{\"2\":513,\"3\":{\"1\":0},\"12\":0}' data-sheets-value='{\"1\":2,\"2\":\"MS Data Science from USF. BS Commerce from UVA. Love puzzles and dogs, plus bubble tea. Was in a completely different industry before joining PG:)\"}'>MS Data Science from USF. BS Commerce from UVA. Love puzzles and dogs, plus bubble tea. Was in a completely different industry before joining PG:)</span></p>\n",
    "</p>\n",
    "<h4>Fave old school video game</h4>\n",
    "<p><p><span data-sheets-userformat='{\"2\":513,\"3\":{\"1\":0},\"12\":0}' data-sheets-value='{\"1\":2,\"2\":\"Monopoly\"}'>Monopoly</span></p>\n",
    "</p>\n",
    "<h4>If I could be a game character</h4>\n",
    "<p><p><span data-sheets-userformat='{\"2\":513,\"3\":{\"1\":0},\"12\":0}' data-sheets-value=\"{&quot;1&quot;:2,&quot;2&quot;:&quot;Mario's Cap&quot;}\">Mario’s Cap</span></p>\n",
    "</p>\n",
    "</div>\n",
    "<figcaption>\n",
    "<strong>Dixin</strong> Roller Coaster Terminator                        </figcaption>\n",
    "</figure>"
   ]
  },
  {
   "cell_type": "code",
   "execution_count": 4,
   "metadata": {},
   "outputs": [],
   "source": [
    "terry = soup.find_all(\"figure\", {\"class\": \"item\"})[0]"
   ]
  },
  {
   "cell_type": "code",
   "execution_count": 5,
   "metadata": {},
   "outputs": [
    {
     "data": {
      "text/plain": [
       "<figure class=\"item\" template=\"\">\n",
       "<div class=\"image\" style=\"background-image: url(https://pocketgems.com/wp-content/uploads/2017/02/pocketgemsdanielterry-116x116.jpg);\"></div>\n",
       "<div class=\"user-popup\">\n",
       "<div class=\"arrow\"></div>\n",
       "<img alt=\"Close icon\" class=\"close-icon\" src=\"https://pocketgems.com/wp-content/themes/pocketgems/assets/images/x@2x.png\"/>\n",
       "<h4>Background</h4>\n",
       "<p><p>Cornell Computer Science, Stanford MBA; Machine learning research (fast object detection techniques using AdaBoost derivatives; licensed to Like.com, sold to Google), VP Engineering at Smartleaf (large RoR SAAS application).</p>\n",
       "</p>\n",
       "<h4>Fave old school video game</h4>\n",
       "<p><p>Super Mario Bros, duh</p>\n",
       "</p>\n",
       "<h4>If I could be a game character</h4>\n",
       "<p><p>Peter Pepper in BurgerTime</p>\n",
       "</p>\n",
       "</div>\n",
       "<figcaption>\n",
       "<strong>Daniel Terry</strong> Co-Founder / CCO &amp; Executive Chairman                        </figcaption>\n",
       "</figure>"
      ]
     },
     "execution_count": 5,
     "metadata": {},
     "output_type": "execute_result"
    }
   ],
   "source": [
    "terry"
   ]
  },
  {
   "cell_type": "code",
   "execution_count": 27,
   "metadata": {},
   "outputs": [],
   "source": [
    "def scrape_summary(soup):\n",
    "    \"\"\"\n",
    "    This function is to scrape the stuffs' summary info\n",
    "    Designed for Pocket Gems\n",
    "    input:\n",
    "        soup: beautifulsoup of the webpage\n",
    "    return:\n",
    "        df: DataFrame of the stuffs' summary info\n",
    "    \"\"\"\n",
    "    names = []\n",
    "    titles = []\n",
    "    backgrounds = []\n",
    "    fav_games = []\n",
    "    game_chars = []\n",
    "    \n",
    "    for stuff in soup.find_all(\"figure\", {\"class\": \"item\"}):\n",
    "        try:\n",
    "            name = stuff.strong.text\n",
    "            background = stuff.find_all(\"p\")[1].text\n",
    "            fav_game = stuff.find_all(\"p\")[3].text\n",
    "            game_char = stuff.find_all(\"p\")[5].text\n",
    "\n",
    "            name_title = stuff.figcaption.text.split()        \n",
    "            for n in name.split():\n",
    "                name_title.remove(n)\n",
    "            title = \" \".join(name_title)\n",
    "\n",
    "            names.append(name)\n",
    "            titles.append(title)\n",
    "            backgrounds.append(background)\n",
    "            fav_games.append(fav_game)\n",
    "            game_chars.append(game_char)\n",
    "        # Print the HTML info if there is something wrong\n",
    "        except:\n",
    "            print(stuff)\n",
    "    \n",
    "    df = pd.DataFrame({'name': names, 'title': titles, 'background': backgrounds, \n",
    "                      'fav_game': fav_games, 'game_char': game_chars})\n",
    "    \n",
    "    return df    "
   ]
  },
  {
   "cell_type": "code",
   "execution_count": 28,
   "metadata": {},
   "outputs": [
    {
     "name": "stdout",
     "output_type": "stream",
     "text": [
      "<figure class=\"item\" template=\"\">\n",
      "<div class=\"image\" style=\"background-image: url(https://s3-us-west-2.amazonaws.com/pocketgems-assets/2018/07/20032106/andykorzik_headshot.jpg);\"></div>\n",
      "<div class=\"user-popup\">\n",
      "<div class=\"arrow\"></div>\n",
      "<img alt=\"Close icon\" class=\"close-icon\" src=\"https://pocketgems.com/wp-content/themes/pocketgems/assets/images/x@2x.png\"/>\n",
      "<h4>Background</h4>\n",
      "<p><p><span data-sheets-userformat='{\"2\":328193,\"3\":[null,0],\"12\":0,\"19\":1,\"21\":0}' data-sheets-value='{\"1\":2,\"2\":\"Originally got into making games by creating Counter-Strike maps in high school. Earned a BS from Georgia Tech and Masters from Carnegie Mellon. I moved west in 2011 have been making games in the bay area since.\\n\\nHobbies include: RPGs, climbing, soap making, watching Survivor.\"}'>Originally got into making games by creating Counter-Strike maps in high school. Earned a BS from Georgia Tech and Masters from Carnegie Mellon. I moved west in 2011 have been making games in the bay area since.</span></p>\n",
      "<p>Hobbies include: RPGs, climbing, soap making, watching Survivor.</p></p></div></figure>\n",
      "<figure class=\"item\" template=\"\">\n",
      "<div class=\"image\" style=\"background-image: url(https://s3-us-west-2.amazonaws.com/pocketgems-assets/2018/09/08030237/petur.jpg);\"></div>\n",
      "<div class=\"user-popup\">\n",
      "<div class=\"arrow\"></div>\n",
      "<img alt=\"Close icon\" class=\"close-icon\" src=\"https://pocketgems.com/wp-content/themes/pocketgems/assets/images/x@2x.png\"/>\n",
      "<h4>Background</h4>\n",
      "<p><p><span data-sheets-note=\"Responder updated this value.\" data-sheets-userformat='{\"2\":513,\"3\":[null,0],\"12\":0}' data-sheets-value=\"{&quot;1&quot;:2,&quot;2&quot;:&quot;As a lifelong gamer I spent my youth organizing events for my local community of RPG and CCG gamers. Around age 20 I abandoned my previous studies when I was offered a shot at designing games for a living and I haven't turned back since.\\n\\nPrior to Pocket Gems I was the lead designer on a number of card and board games, served as lead designer and game design director for CCP Games on EVE Online and as game design and creative director for Solfar Studios on Everest VR and In Death.&quot;}\">As a lifelong gamer I spent my youth organizing events for my local community of RPG and CCG gamers. Around age 20 I abandoned my previous studies when I was offered a shot at designing games for a living and I haven’t turned back since.</span></p>\n",
      "<p>Prior to Pocket Gems I was the lead designer on a number of card and board games, served as lead designer and game design director for CCP Games on EVE Online and as game design and creative director for Solfar Studios on Everest VR and In Death.</p></p></div></figure>\n"
     ]
    }
   ],
   "source": [
    "df = scrape_summary(soup)"
   ]
  },
  {
   "cell_type": "code",
   "execution_count": 29,
   "metadata": {},
   "outputs": [
    {
     "data": {
      "text/html": [
       "<div>\n",
       "<style scoped>\n",
       "    .dataframe tbody tr th:only-of-type {\n",
       "        vertical-align: middle;\n",
       "    }\n",
       "\n",
       "    .dataframe tbody tr th {\n",
       "        vertical-align: top;\n",
       "    }\n",
       "\n",
       "    .dataframe thead th {\n",
       "        text-align: right;\n",
       "    }\n",
       "</style>\n",
       "<table border=\"1\" class=\"dataframe\">\n",
       "  <thead>\n",
       "    <tr style=\"text-align: right;\">\n",
       "      <th></th>\n",
       "      <th>name</th>\n",
       "      <th>title</th>\n",
       "      <th>background</th>\n",
       "      <th>fav_game</th>\n",
       "      <th>game_char</th>\n",
       "    </tr>\n",
       "  </thead>\n",
       "  <tbody>\n",
       "    <tr>\n",
       "      <th>0</th>\n",
       "      <td>Daniel Terry</td>\n",
       "      <td>Co-Founder / CCO &amp; Executive Chairman</td>\n",
       "      <td>Cornell Computer Science, Stanford MBA; Machin...</td>\n",
       "      <td>Super Mario Bros, duh</td>\n",
       "      <td>Peter Pepper in BurgerTime</td>\n",
       "    </tr>\n",
       "    <tr>\n",
       "      <th>1</th>\n",
       "      <td>Harlan Crystal</td>\n",
       "      <td>Co-Founder / CTO</td>\n",
       "      <td>Born and raised in NYC. BA in Computer Science...</td>\n",
       "      <td>Marble Madness</td>\n",
       "      <td>Magus from Chrono Trigger</td>\n",
       "    </tr>\n",
       "    <tr>\n",
       "      <th>2</th>\n",
       "      <td>Fletcher</td>\n",
       "      <td>I break games</td>\n",
       "      <td>BA in Business Management and Economics from U...</td>\n",
       "      <td>Ahh there’s so many but top 3: New Zealand Sto...</td>\n",
       "      <td>Duke Nukem</td>\n",
       "    </tr>\n",
       "    <tr>\n",
       "      <th>3</th>\n",
       "      <td>David</td>\n",
       "      <td>Backend Hacker</td>\n",
       "      <td>Stanford MSCS; open-source enthusiast (Virtual...</td>\n",
       "      <td>Run, and then run some more</td>\n",
       "      <td>Fomor</td>\n",
       "    </tr>\n",
       "    <tr>\n",
       "      <th>4</th>\n",
       "      <td>Jeff</td>\n",
       "      <td>Pixel Pusher</td>\n",
       "      <td>First there were only 2 colors, then 4, then 1...</td>\n",
       "      <td>Temple of Apshai</td>\n",
       "      <td>My Tauren Druid</td>\n",
       "    </tr>\n",
       "  </tbody>\n",
       "</table>\n",
       "</div>"
      ],
      "text/plain": [
       "             name                                  title  \\\n",
       "0    Daniel Terry  Co-Founder / CCO & Executive Chairman   \n",
       "1  Harlan Crystal                       Co-Founder / CTO   \n",
       "2        Fletcher                          I break games   \n",
       "3           David                         Backend Hacker   \n",
       "4            Jeff                           Pixel Pusher   \n",
       "\n",
       "                                          background  \\\n",
       "0  Cornell Computer Science, Stanford MBA; Machin...   \n",
       "1  Born and raised in NYC. BA in Computer Science...   \n",
       "2  BA in Business Management and Economics from U...   \n",
       "3  Stanford MSCS; open-source enthusiast (Virtual...   \n",
       "4  First there were only 2 colors, then 4, then 1...   \n",
       "\n",
       "                                            fav_game  \\\n",
       "0                              Super Mario Bros, duh   \n",
       "1                                     Marble Madness   \n",
       "2  Ahh there’s so many but top 3: New Zealand Sto...   \n",
       "3                        Run, and then run some more   \n",
       "4                                   Temple of Apshai   \n",
       "\n",
       "                    game_char  \n",
       "0  Peter Pepper in BurgerTime  \n",
       "1   Magus from Chrono Trigger  \n",
       "2                  Duke Nukem  \n",
       "3                       Fomor  \n",
       "4             My Tauren Druid  "
      ]
     },
     "execution_count": 29,
     "metadata": {},
     "output_type": "execute_result"
    }
   ],
   "source": [
    "df.head()"
   ]
  },
  {
   "cell_type": "code",
   "execution_count": 30,
   "metadata": {},
   "outputs": [],
   "source": [
    "df.to_csv('pocket_gems.csv', index=False)"
   ]
  },
  {
   "cell_type": "code",
   "execution_count": null,
   "metadata": {},
   "outputs": [],
   "source": []
  }
 ],
 "metadata": {
  "kernelspec": {
   "display_name": "Python 3",
   "language": "python",
   "name": "python3"
  },
  "language_info": {
   "codemirror_mode": {
    "name": "ipython",
    "version": 3
   },
   "file_extension": ".py",
   "mimetype": "text/x-python",
   "name": "python",
   "nbconvert_exporter": "python",
   "pygments_lexer": "ipython3",
   "version": "3.6.8"
  }
 },
 "nbformat": 4,
 "nbformat_minor": 2
}
